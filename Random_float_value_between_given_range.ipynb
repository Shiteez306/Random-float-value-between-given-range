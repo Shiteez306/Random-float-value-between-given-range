{
  "nbformat": 4,
  "nbformat_minor": 0,
  "metadata": {
    "colab": {
      "provenance": [],
      "authorship_tag": "ABX9TyP3i1kqw9skxSPHfwdEiEa0",
      "include_colab_link": true
    },
    "kernelspec": {
      "name": "python3",
      "display_name": "Python 3"
    },
    "language_info": {
      "name": "python"
    }
  },
  "cells": [
    {
      "cell_type": "markdown",
      "metadata": {
        "id": "view-in-github",
        "colab_type": "text"
      },
      "source": [
        "<a href=\"https://colab.research.google.com/github/Shiteez306/Random-float-value-between-given-range/blob/main/Random_float_value_between_given_range.ipynb\" target=\"_parent\"><img src=\"https://colab.research.google.com/assets/colab-badge.svg\" alt=\"Open In Colab\"/></a>"
      ]
    },
    {
      "cell_type": "code",
      "execution_count": 2,
      "metadata": {
        "colab": {
          "base_uri": "https://localhost:8080/"
        },
        "id": "lxuL7Id1w6SL",
        "outputId": "ac7176ba-55e5-4abc-cee5-6c918c29ad83"
      },
      "outputs": [
        {
          "output_type": "stream",
          "name": "stdout",
          "text": [
            "10.949544331633776\n"
          ]
        }
      ],
      "source": [
        "import random\n",
        "num = random.uniform(10,40)\n",
        "print(num)"
      ]
    }
  ]
}